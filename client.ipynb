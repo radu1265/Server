{
 "cells": [
  {
   "cell_type": "code",
   "execution_count": 8,
   "id": "f61a84dd",
   "metadata": {},
   "outputs": [
    {
     "name": "stdout",
     "output_type": "stream",
     "text": [
      "Ping received\n"
     ]
    }
   ],
   "source": [
    "import socket\n",
    "\n",
    "target_host = \"0.0.0.0\"\n",
    "target_port = 9999\n",
    "\n",
    "\n",
    "#creating socket object\n",
    "client = socket.socket(socket.AF_INET, socket.SOCK_STREAM)\n",
    "#connecting the client\n",
    "client.connect((target_host, target_port))\n",
    "#sending data\n",
    "client.send(\"GET / HTTP/1.1\\r\\nHost: google.com\\r\\n\\r\\n\".encode())\n",
    "#receiving the data \n",
    "response = client.recv(4096)\n",
    "print(response.decode())\n"
   ]
  }
 ],
 "metadata": {
  "kernelspec": {
   "display_name": "venv",
   "language": "python",
   "name": "python3"
  },
  "language_info": {
   "codemirror_mode": {
    "name": "ipython",
    "version": 3
   },
   "file_extension": ".py",
   "mimetype": "text/x-python",
   "name": "python",
   "nbconvert_exporter": "python",
   "pygments_lexer": "ipython3",
   "version": "3.13.5"
  }
 },
 "nbformat": 4,
 "nbformat_minor": 5
}
