{
 "cells": [
  {
   "cell_type": "markdown",
   "id": "b8a0e98a",
   "metadata": {},
   "source": [
    "Hello world!"
   ]
  },
  {
   "cell_type": "code",
   "execution_count": null,
   "id": "e4156dfb",
   "metadata": {},
   "outputs": [
    {
     "name": "stdout",
     "output_type": "stream",
     "text": [
      "Hello world!\n"
     ]
    }
   ],
   "source": [
    "print(f'Hello world!')"
   ]
  },
  {
   "cell_type": "code",
   "execution_count": null,
   "id": "547ede81",
   "metadata": {},
   "outputs": [
    {
     "name": "stdout",
     "output_type": "stream",
     "text": [
      "HTTP/1.1 301 Moved Permanently\n",
      "Location: http://www.google.com/\n",
      "Content-Type: text/html; charset=UTF-8\n",
      "Content-Security-Policy-Report-Only: object-src 'none';base-uri 'self';script-src 'nonce-Ypjmip4UjxqLCl3r3eabEQ' 'strict-dynamic' 'report-sample' 'unsafe-eval' 'unsafe-inline' https: http:;report-uri https://csp.withgoogle.com/csp/gws/other-hp\n",
      "Date: Tue, 29 Jul 2025 17:40:06 GMT\n",
      "Expires: Thu, 28 Aug 2025 17:40:06 GMT\n",
      "Cache-Control: public, max-age=2592000\n",
      "Server: gws\n",
      "Content-Length: 219\n",
      "X-XSS-Protection: 0\n",
      "X-Frame-Options: SAMEORIGIN\n",
      "\n",
      "<HTML><HEAD><meta http-equiv=\"content-type\" content=\"text/html;charset=utf-8\">\n",
      "<TITLE>301 Moved</TITLE></HEAD><BODY>\n",
      "<H1>301 Moved</H1>\n",
      "The document has moved\n",
      "<A HREF=\"http://www.google.com/\">here</A>.\n",
      "</BODY></HTML>\n",
      "\n"
     ]
    }
   ],
   "source": [
    "import socket\n",
    "\n",
    "target_host = \"0.0.0.0\"\n",
    "target_port = 9999\n",
    "\n",
    "\n",
    "#creating socket object\n",
    "client = socket.socket(socket.AF_INET, socket.SOCK_STREAM)\n",
    "#connecting the client\n",
    "client.connect((target_host, target_port))\n",
    "#sending data\n",
    "client.send(\"GET / HTTP/1.1\\r\\nHost: google.com\\r\\n\\r\\n\".encode())\n",
    "#receiving the data \n",
    "response = client.recv(4096)\n",
    "print(response.decode())\n"
   ]
  },
  {
   "cell_type": "code",
   "execution_count": 3,
   "id": "c4ec7995",
   "metadata": {},
   "outputs": [
    {
     "name": "stdout",
     "output_type": "stream",
     "text": [
      "[+] Listening on 0.0.0.0:9999\n",
      "\n",
      "[!] KeyboardInterrupt received.\n",
      "\n",
      "Shutting down gracefully...\n",
      "Socket closed.\n"
     ]
    },
    {
     "ename": "SystemExit",
     "evalue": "0",
     "output_type": "error",
     "traceback": [
      "An exception has occurred, use %tb to see the full traceback.\n",
      "\u001b[31mSystemExit\u001b[39m\u001b[31m:\u001b[39m 0\n"
     ]
    }
   ],
   "source": [
    "import socket \n",
    "import threading \n",
    "import sys\n",
    "\n",
    "bind_ip = \"0.0.0.0\" \n",
    "bind_port = 9999\n",
    "\n",
    "server = socket.socket(socket.AF_INET, socket.SOCK_STREAM)\n",
    "server.setsockopt(socket.SOL_SOCKET, socket.SO_REUSEADDR, 1)\n",
    "server.bind((bind_ip, bind_port)) \n",
    "\n",
    "def cleanup_and_exit():\n",
    "    print(\"\\nShutting down gracefully...\")\n",
    "    if server:\n",
    "        server.close()\n",
    "        print(\"Socket closed.\")\n",
    "    sys.exit(0)\n",
    "\n",
    "server.listen(5) \n",
    "print(f\"[+] Listening on {bind_ip}:{bind_port}\")                            \n",
    "\n",
    "def handle_client(client_socket): \n",
    "    request = client_socket.recv(1024) \n",
    "    print(f\"[+] Received: {request.decode()}\") \n",
    "    client_socket.send(\"Ping received\".encode()) \n",
    "    client_socket.close()\n",
    "\n",
    "try:\n",
    "    while True: \n",
    "        client, addr = server.accept() \n",
    "        print(f\"[+] Accepted connection from: {addr[0]}:{addr[1]}\")\n",
    "        client_handler = threading.Thread(target=handle_client, args=(client,))\n",
    "        client_handler.start()\n",
    "\n",
    "except KeyboardInterrupt:\n",
    "    print(\"\\n[!] KeyboardInterrupt received.\")\n",
    "    cleanup_and_exit()\n",
    "\n",
    "except Exception as e:\n",
    "    print(f\"[!] Unexpected error: {e}\")\n",
    "    cleanup_and_exit()\n",
    "\n"
   ]
  }
 ],
 "metadata": {
  "kernelspec": {
   "display_name": "venv",
   "language": "python",
   "name": "python3"
  },
  "language_info": {
   "codemirror_mode": {
    "name": "ipython",
    "version": 3
   },
   "file_extension": ".py",
   "mimetype": "text/x-python",
   "name": "python",
   "nbconvert_exporter": "python",
   "pygments_lexer": "ipython3",
   "version": "3.13.5"
  }
 },
 "nbformat": 4,
 "nbformat_minor": 5
}
